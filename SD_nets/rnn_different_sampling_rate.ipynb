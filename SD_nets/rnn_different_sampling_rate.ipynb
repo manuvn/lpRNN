{
 "cells": [
  {
   "cell_type": "code",
   "execution_count": 1,
   "metadata": {},
   "outputs": [],
   "source": [
    "import pickle\n",
    "import pandas as pd\n",
    "import numpy as np\n",
    "import matplotlib.pyplot as plt\n",
    "from scipy.signal import resample\n",
    "\n",
    "from spiker import *\n",
    "from rnn import rnn"
   ]
  },
  {
   "cell_type": "code",
   "execution_count": 2,
   "metadata": {
    "scrolled": false
   },
   "outputs": [],
   "source": [
    "# https://www.mathworks.com/help/ident/ref/goodnessoffit.html\n",
    "def goodness_of_fit(ann_states, snn_states):\n",
    "    nmse_layers = []\n",
    "    epsilon = 1e-14\n",
    "    layers = range(len(ann_states))\n",
    "    transient = 0\n",
    "    for idx in layers: # layer idx\n",
    "        dims = ann_states[idx].shape[0]\n",
    "        nmse = []\n",
    "        for jdx in range(dims):\n",
    "            ref = ann_states[idx][jdx,transient:]\n",
    "            y = snn_states[idx][jdx,transient:]\n",
    "            diff = ref - y\n",
    "            num = np.sum(diff*diff)\n",
    "            ref_ch_mean = np.mean(ref)\n",
    "            ref_diff = ref - ref_ch_mean #+ epsilon\n",
    "            den = np.sum(ref_diff*ref_diff)\n",
    "            if (den < epsilon) | (num < epsilon):\n",
    "                if num < den:\n",
    "                    nmse += [1]\n",
    "                elif den > 0: # ignore for den=0\n",
    "                    nmse += [1 - num/den]\n",
    "            else:\n",
    "                nmse += [1 - (num/den)]\n",
    "        nmse_layer = np.mean(nmse)\n",
    "        print(f'MSE in layer {idx} is {nmse_layer:.3f}')\n",
    "        nmse_layers += [nmse_layer]\n",
    "    return nmse_layers\n",
    "# goodness_of_fit(ann_states, snn_states)"
   ]
  },
  {
   "cell_type": "code",
   "execution_count": 3,
   "metadata": {
    "scrolled": false
   },
   "outputs": [],
   "source": [
    "def compare_activations(net, ann_states, snn_states, label='', plot=True, axis='off'):\n",
    "    plt.rcParams['lines.linewidth'] = 1.2\n",
    "    import matplotlib.patches as mpatches\n",
    "    # Plotting and visualization\n",
    "    print('Pole frequency = {0:.3f} Hz'.format(1/net.tau))\n",
    "    goodness = goodness_of_fit(ann_states, snn_states)\n",
    "    if plot:\n",
    "        for idx in range(len(ann_states)): # layer idx\n",
    "            dims = ann_states[idx].shape[0]\n",
    "            if dims >= 3:\n",
    "                cols = 3\n",
    "            else:\n",
    "                cols=dims\n",
    "            rows = int(np.ceil(dims/cols))\n",
    "            fig, axs = plt.subplots(rows,cols)\n",
    "            for jdx in range(ann_states[idx].shape[0]): # dim idx\n",
    "                ax = plt.subplot(rows,cols,jdx+1)\n",
    "                plt.plot(tsteps, ann_states[idx][jdx,:], color='r', linestyle='-.', label=f'ANN - Layer {idx}')\n",
    "                plt.plot(tsteps, snn_states[idx][jdx,:], color='g', alpha=0.7, label=f'SNN - Layer {idx}')\n",
    "                plt.axis(axis)\n",
    "                plt.subplots_adjust(wspace=0, hspace=0)\n",
    "\n",
    "            label_ext = label+f' NMSE = {goodness[idx]:.4f}.'\n",
    "\n",
    "            if idx == 0:\n",
    "                fig.suptitle(f'Input dense layer.'+label_ext, fontsize=12)\n",
    "            elif idx == len(ann_states)-1:\n",
    "                fig.suptitle(f'Output dense layer.'+label_ext, fontsize=12)\n",
    "            elif idx%2 == 1:\n",
    "                fig.suptitle(f'Recurrent layer {int(np.floor((idx+1)/2))}.'+label_ext, fontsize=12)\n",
    "            else:\n",
    "                fig.suptitle(f'Dense layer {int(np.floor((idx)/2))}.'+label_ext, fontsize=12)\n",
    "            patch1 = mpatches.Patch(color='r', label='ANN output')\n",
    "            patch2 = mpatches.Patch(color='g', label='SNN output')\n",
    "            fig.tight_layout() # Or equivalently,  \"plt.tight_layout()\"\n",
    "            fig.legend(handles=[patch1, patch2], loc='lower center', fancybox=True, shadow=True, fontsize=12, ncol=2)\n",
    "            plt.savefig(f'./img/ANN-RNN-Layer-{idx}-{label}.png', dpi=300)\n",
    "    t = 0\n",
    "    for N in net.neurons:\n",
    "        t += np.sum(N.spike_count)\n",
    "    print('Average spike rate = {0:.3f} KHz'. format(1e-3*t/(tsteps[-1]*op_dim+res_dim+ip_dim)))"
   ]
  },
  {
   "cell_type": "code",
   "execution_count": 4,
   "metadata": {},
   "outputs": [],
   "source": [
    "def plot_activations(net, rnn_states, label='', plot=True, axis='off'):\n",
    "    for idx in range(len(ann_states)): # layer idx\n",
    "        dims = ann_states[idx].shape[0]\n",
    "        if dims >= 3:\n",
    "            cols = 3\n",
    "        else:\n",
    "            cols=dims\n",
    "        rows = int(np.ceil(dims/cols))\n",
    "        fig, axs = plt.subplots(rows,cols)\n",
    "        for jdx in range(ann_states[idx].shape[0]): # dim idx\n",
    "            ax = plt.subplot(rows,cols,jdx+1)\n",
    "            plt.plot(tsteps, rnn_states[idx][jdx,:], color='r', linestyle='-.', label=f'ANN - Layer {idx}')\n",
    "            plt.axis(axis)\n",
    "            plt.subplots_adjust(wspace=0, hspace=0)\n",
    "\n",
    "        label_ext = r' $c_{v_p} = $'+label\n",
    "\n",
    "        if idx == 0:\n",
    "            fig.suptitle(f'Input dense layer.'+label_ext, fontsize=12)\n",
    "        elif idx == len(ann_states)-1:\n",
    "            fig.suptitle(f'Output dense layer.'+label_ext, fontsize=12)\n",
    "        elif idx%2 == 1:\n",
    "            fig.suptitle(f'Recurrent layer {int(np.floor((idx+1)/2))}.'+label_ext, fontsize=12)\n",
    "        else:\n",
    "            fig.suptitle(f'Dense layer {int(np.floor((idx)/2))}.'+label_ext, fontsize=12)\n",
    "        fig.tight_layout() # Or equivalently,  \"plt.tight_layout()\"\n",
    "    t = 0\n",
    "    for N in net.neurons:\n",
    "        t += np.sum(N.spike_count)\n",
    "    print('Average spike rate = {0:.3f} KHz'. format(1e-3*t/(tsteps[-1]*op_dim+res_dim+ip_dim)))"
   ]
  },
  {
   "cell_type": "code",
   "execution_count": 5,
   "metadata": {},
   "outputs": [],
   "source": [
    "# Generate simulation data\n",
    "def gen_data(nblocks,f1,f2, tstart=0, tstop=0.0001, Ts=1e-6,amp=1e-8):\n",
    "    \"\"\"\n",
    "    Generates a time series comprising nblocks of data\n",
    "    Each block is some combination of two sinusoids.\n",
    "    nblocks = number of blocks\n",
    "    tseries = Tseries object. Tseries is a datastructure \n",
    "        that makes it easy to deal with time-series data\n",
    "    amp = Scales the entire data block\n",
    "    \"\"\"\n",
    "    #np.random.seed(1)\n",
    "    tseries = gen_time(tstart,tstop,Ts) # obtain the time series input sample\n",
    "    time = tseries.time\n",
    "    ip = np.array([])\n",
    "    op = np.array([])\n",
    "    tblockend = int(len(time)/nblocks)\n",
    "    timeblock = time[:tblockend]\n",
    "    for index in range(nblocks):\n",
    "        if np.random.randint(2):\n",
    "            block = 2*np.sin(2*np.pi*timeblock*f2)+1*np.sin(2*np.pi*timeblock*f1)+2\n",
    "            ip = np.concatenate((ip,block))\n",
    "            op = np.concatenate((op,np.zeros_like(timeblock)))\n",
    "        else:\n",
    "            block = 1*np.sin(2*np.pi*timeblock*f2)+2*np.sin(2*np.pi*timeblock*f1)**2+1\n",
    "            ip = np.concatenate((ip,block))\n",
    "            op = np.concatenate((op,np.ones_like(timeblock)))\n",
    "    return amp*ip, amp*op, time"
   ]
  },
  {
   "cell_type": "code",
   "execution_count": 6,
   "metadata": {},
   "outputs": [],
   "source": [
    "def run_rnn(net, ip, mode='ann'):\n",
    "    rnn_states = net.rnn_forward(ip, mode=mode)\n",
    "    return rnn_states\n",
    "def run_rnns(ip, ip_dim, op_dim, res_dim, nrlayers, nparams):\n",
    "    net = rnn(nrlayers, ip_dim, res_dim, op_dim, nparams=nparams)\n",
    "    ann_states = run_rnn(net, ip, mode = 'ann')\n",
    "    snn_states = run_rnn(net, ip, mode = 'snn')\n",
    "    return ann_states, snn_states, net"
   ]
  },
  {
   "cell_type": "code",
   "execution_count": 7,
   "metadata": {},
   "outputs": [],
   "source": [
    "def gen_input(tstop, Ts_ann, Ts_snn):\n",
    "    ip1,_,tsteps = gen_data(nblocks=2, f1=4, f2=15, tstop=tstop, Ts=Ts_ann)\n",
    "    ip2,_,tsteps = gen_data(nblocks=1, f1=4, f2=15, tstop=tstop, Ts=Ts_ann)\n",
    "    inp1 = Tseries(ip1, tsteps)\n",
    "    inp2 = Tseries(ip2, tsteps)\n",
    "    inp1.plot(label = \"Input pattern\")\n",
    "    inp2.plot(label = \"Input pattern\")\n",
    "    ip = np.stack((ip1,ip2))\n",
    "    print('Sequence length is {}'.format(ip.shape[1]))\n",
    "    return ip, tsteps"
   ]
  },
  {
   "cell_type": "code",
   "execution_count": 8,
   "metadata": {
    "scrolled": false
   },
   "outputs": [
    {
     "name": "stdout",
     "output_type": "stream",
     "text": [
      "Sequence length is 200\n",
      "Incorrect key Ts_ann\n"
     ]
    },
    {
     "name": "stderr",
     "output_type": "stream",
     "text": [
      "C:\\Users\\Manu\\AppData\\Local\\conda\\conda\\envs\\speech\\lib\\site-packages\\scipy\\signal\\signaltools.py:2223: FutureWarning: Using a non-tuple sequence for multidimensional indexing is deprecated; use `arr[tuple(seq)]` instead of `arr[seq]`. In the future this will be interpreted as an array index, `arr[np.array(seq)]`, which will result either in an error or a different result.\n",
      "  Y[sl] = X[sl]\n",
      "C:\\Users\\Manu\\AppData\\Local\\conda\\conda\\envs\\speech\\lib\\site-packages\\scipy\\signal\\signaltools.py:2225: FutureWarning: Using a non-tuple sequence for multidimensional indexing is deprecated; use `arr[tuple(seq)]` instead of `arr[seq]`. In the future this will be interpreted as an array index, `arr[np.array(seq)]`, which will result either in an error or a different result.\n",
      "  Y[sl] = X[sl]\n",
      "C:\\Users\\Manu\\AppData\\Local\\conda\\conda\\envs\\speech\\lib\\site-packages\\scipy\\signal\\signaltools.py:2233: FutureWarning: Using a non-tuple sequence for multidimensional indexing is deprecated; use `arr[tuple(seq)]` instead of `arr[seq]`. In the future this will be interpreted as an array index, `arr[np.array(seq)]`, which will result either in an error or a different result.\n",
      "  Y[sl] /= 2  # halve the component at -N/2\n",
      "C:\\Users\\Manu\\AppData\\Local\\conda\\conda\\envs\\speech\\lib\\site-packages\\scipy\\signal\\signaltools.py:2234: FutureWarning: Using a non-tuple sequence for multidimensional indexing is deprecated; use `arr[tuple(seq)]` instead of `arr[seq]`. In the future this will be interpreted as an array index, `arr[np.array(seq)]`, which will result either in an error or a different result.\n",
      "  temp = Y[sl]\n",
      "C:\\Users\\Manu\\AppData\\Local\\conda\\conda\\envs\\speech\\lib\\site-packages\\scipy\\signal\\signaltools.py:2236: FutureWarning: Using a non-tuple sequence for multidimensional indexing is deprecated; use `arr[tuple(seq)]` instead of `arr[seq]`. In the future this will be interpreted as an array index, `arr[np.array(seq)]`, which will result either in an error or a different result.\n",
      "  Y[sl] = temp  # set that equal to the component at -N/2\n",
      "C:\\Users\\Manu\\AppData\\Local\\conda\\conda\\envs\\speech\\lib\\site-packages\\scipy\\signal\\signaltools.py:2230: FutureWarning: Using a non-tuple sequence for multidimensional indexing is deprecated; use `arr[tuple(seq)]` instead of `arr[seq]`. In the future this will be interpreted as an array index, `arr[np.array(seq)]`, which will result either in an error or a different result.\n",
      "  Y[sl] += X[sl]  # add the component of X at N/2\n"
     ]
    },
    {
     "ename": "AttributeError",
     "evalue": "'rnn' object has no attribute 'list_nparams'",
     "output_type": "error",
     "traceback": [
      "\u001b[1;31m---------------------------------------------------------------------------\u001b[0m",
      "\u001b[1;31mAttributeError\u001b[0m                            Traceback (most recent call last)",
      "\u001b[1;32m<ipython-input-8-424ea9ae4aeb>\u001b[0m in \u001b[0;36m<module>\u001b[1;34m\u001b[0m\n\u001b[0;32m     35\u001b[0m     \u001b[0msnn_states\u001b[0m\u001b[1;33m[\u001b[0m\u001b[0midx\u001b[0m\u001b[1;33m]\u001b[0m \u001b[1;33m=\u001b[0m \u001b[0mresample\u001b[0m\u001b[1;33m(\u001b[0m\u001b[0msnn_states\u001b[0m\u001b[1;33m[\u001b[0m\u001b[0midx\u001b[0m\u001b[1;33m]\u001b[0m\u001b[1;33m,\u001b[0m \u001b[0mint\u001b[0m\u001b[1;33m(\u001b[0m\u001b[0mtstop\u001b[0m\u001b[1;33m/\u001b[0m\u001b[0mTs_ann\u001b[0m\u001b[1;33m)\u001b[0m\u001b[1;33m,\u001b[0m \u001b[0maxis\u001b[0m\u001b[1;33m=\u001b[0m\u001b[1;36m1\u001b[0m\u001b[1;33m)\u001b[0m\u001b[1;33m\u001b[0m\u001b[1;33m\u001b[0m\u001b[0m\n\u001b[0;32m     36\u001b[0m \u001b[1;33m\u001b[0m\u001b[0m\n\u001b[1;32m---> 37\u001b[1;33m \u001b[0mnet\u001b[0m\u001b[1;33m.\u001b[0m\u001b[0mlist_nparams\u001b[0m\u001b[1;33m(\u001b[0m\u001b[1;33m)\u001b[0m\u001b[1;33m\u001b[0m\u001b[1;33m\u001b[0m\u001b[0m\n\u001b[0m\u001b[0;32m     38\u001b[0m \u001b[1;33m\u001b[0m\u001b[0m\n\u001b[0;32m     39\u001b[0m \u001b[1;31m# compare ann and snn activations\u001b[0m\u001b[1;33m\u001b[0m\u001b[1;33m\u001b[0m\u001b[1;33m\u001b[0m\u001b[0m\n",
      "\u001b[1;31mAttributeError\u001b[0m: 'rnn' object has no attribute 'list_nparams'"
     ]
    },
    {
     "data": {
      "image/png": "[encoded data removed]",
      "text/plain": [
       "<Figure size 432x288 with 1 Axes>"
      ]
     },
     "metadata": {
      "needs_background": "light"
     },
     "output_type": "display_data"
    }
   ],
   "source": [
    "# Experimental test case\n",
    "# Generate input\n",
    "tstop  = 0.2\n",
    "Ts_ann = 1e-3 # resolution of ANN\n",
    "Ts_snn = 1e-6 # resolution of SNN\n",
    "ip, tsteps = gen_input(tstop, Ts_ann, Ts_snn)\n",
    "\n",
    "# Network params\n",
    "ip_dim = ip.shape[0]\n",
    "op_dim = 3\n",
    "res_dim = 51\n",
    "nrlayers = 2\n",
    "seq_len = ip.shape[1]\n",
    "nparams = {}\n",
    "\n",
    "# SNN settings\n",
    "nparams = {}\n",
    "# nparams['fbIin'] = 1e-6\n",
    "nparams['Ts_ann'] = Ts_ann\n",
    "nparams['Ts']     = Ts_snn\n",
    "# nparams['Tp'] = 1e-6\n",
    "# nparams['refr'] = 1e-5\n",
    "\n",
    "# Run ANN with low resolution specs.\n",
    "net = rnn(nrlayers, ip_dim, res_dim, op_dim, nparams=nparams)\n",
    "ann_states = run_rnn(net, ip, mode='ann')\n",
    "\n",
    "\n",
    "# Then run SNN with high resolution specs.\n",
    "# first upsample the input\n",
    "ip_snn = resample(ip, int(tstop/Ts_snn), axis=1)\n",
    "snn_states = run_rnn(net, ip_snn, mode='snn')\n",
    "# Resample for plotting\n",
    "for idx in range(len(snn_states)):\n",
    "    snn_states[idx] = resample(snn_states[idx], int(tstop/Ts_ann), axis=1)\n",
    "\n",
    "net.list_nparams()\n",
    "\n",
    "# compare ann and snn activations\n",
    "compare_activations(net, ann_states, snn_states, label='low_Ts', plot=True, axis='Off')"
   ]
  },
  {
   "cell_type": "code",
   "execution_count": null,
   "metadata": {},
   "outputs": [],
   "source": []
  }
 ],
 "metadata": {
  "kernelspec": {
   "display_name": "Python 3",
   "language": "python",
   "name": "python3"
  },
  "language_info": {
   "codemirror_mode": {
    "name": "ipython",
    "version": 3
   },
   "file_extension": ".py",
   "mimetype": "text/x-python",
   "name": "python",
   "nbconvert_exporter": "python",
   "pygments_lexer": "ipython3",
   "version": "3.6.7"
  }
 },
 "nbformat": 4,
 "nbformat_minor": 2
}
