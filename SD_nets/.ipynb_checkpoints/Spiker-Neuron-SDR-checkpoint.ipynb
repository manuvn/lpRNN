{
 "cells": [
  {
   "cell_type": "markdown",
   "metadata": {},
   "source": [
    "# Single neuron TB"
   ]
  },
  {
   "cell_type": "code",
   "execution_count": 1,
   "metadata": {
    "scrolled": true
   },
   "outputs": [],
   "source": [
    "%matplotlib inline\n",
    "import numpy as np\n",
    "import matplotlib.pyplot as plt\n",
    "import importlib\n",
    "from spiker import *\n",
    "from IPython.display import clear_output, Image, display, HTML\n",
    "import seaborn as sns\n",
    "import matplotlib.patches as mpatches\n",
    "\n",
    "sns.set_style('whitegrid')\n",
    "# Test bench for Neuron\n",
    "# Ip -> Neuron -> Syn -> Vsyn\n",
    "Ts = 1e-6\n",
    "transient_time = 0.1\n",
    "def run_test(freq=5, amp=1e-9, periods = 1, plt = False, verbose=False):\n",
    "    tstart = 0\n",
    "    tstop = transient_time + periods/freq\n",
    "    print(f'Running test with freq = {freq} and amplitude = {amp} for time {tstop}s' )\n",
    "    \n",
    "    tseries = gen_time(tstart,tstop,Ts)\n",
    "    ipt     = gen_sine(tseries, freq, amp=amp)\n",
    "    \n",
    "    nspikes = np.zeros_like(tseries.time)\n",
    "    nfbsyn  = np.zeros_like(tseries.time)\n",
    "\n",
    "    ipt.set_time(0.)\n",
    "    n = Neuron(1,Ts=Ts,\n",
    "        ipItau   = 50e-12,\n",
    "        ipIth    = 50e-12,\n",
    "        fbItau   = 50e-12,\n",
    "        fbIth    = 50e-12,\n",
    "        fbIin    = 4e-8,\n",
    "        eItau    = 10e-12,\n",
    "        eIth     = 50e-9,\n",
    "        thresh   = 0.1e-9,  \n",
    "        Kappa    = 0.7, \n",
    "        Temp     = 300,\n",
    "        ipCmem   = 2e-12,\n",
    "        fbCmem   = 2e-12,\n",
    "        eCmem    = 2e-12,\n",
    "        Tp       = 1e-6,\n",
    "        mode     = 'sd',\n",
    "        refr     = 1e-3,\n",
    "        mismatch = 0)\n",
    "    \n",
    "    for index in range(len(tseries.time)):\n",
    "        ip = ipt.value[index]\n",
    "        nop = n.compute(ip)\n",
    "        nspikes[index] = n.states[0]\n",
    "        nfbsyn[index] = n.frecon[0]\n",
    "    if plt:\n",
    "        nspikes_t = Tseries(nspikes,tseries.time,Ts)    \n",
    "        nfbsyn_t  = Tseries(nfbsyn,tseries.time,Ts)  \n",
    "        nfbsyn_t.plot(0,tstop)\n",
    "        ipt.plot(0,tstop)\n",
    "    if verbose:\n",
    "        n.print_props()\n",
    "    return ipt.value, nfbsyn, n.spike_count/tstop\n",
    "\n",
    "def compute_sdr(ip, Ts, plt = False, verbose=False):\n",
    "    # Measuring the signal quality\n",
    "    ip_fft = np.fft.fft(ip)\n",
    "    N = len(ip_fft)\n",
    "    ip_fft_psd = 2*np.abs(ip_fft)**2\n",
    "\n",
    "    freqs = np.linspace(0.0, int(1.0/(2.0*Ts)), int(N/2))\n",
    "    if plt:\n",
    "        plt.semilogx(freqs, 10*np.log10(ip_fft_psd[:N//2]))\n",
    "    max_id = 1+np.argmax(ip_fft_psd[1:N//2])\n",
    "    peak_freq = freqs[max_id] \n",
    "    total_energy = np.sum(ip_fft_psd[1:N//2]) # discount the DC component\n",
    "    distortion_energy = total_energy - ip_fft_psd[max_id]\n",
    "    sdr = (ip_fft_psd[max_id])/distortion_energy\n",
    "    sdr_db = 10*np.log10(sdr)\n",
    "    if verbose:\n",
    "        print(f'Peak frequency is {1+peak_freq} Hz')\n",
    "        print(f'SDR in dB is {10*np.log10(sdr)}')\n",
    "        print('='*89)\n",
    "    return sdr_db"
   ]
  },
  {
   "cell_type": "raw",
   "metadata": {},
   "source": [
    "run_test(3, 1e-9, verbose=True)"
   ]
  },
  {
   "cell_type": "code",
   "execution_count": 2,
   "metadata": {
    "scrolled": true
   },
   "outputs": [
    {
     "name": "stdout",
     "output_type": "stream",
     "text": [
      "Running test with freq = 1.0 and amplitude = 5e-10 for time 1.1s\n",
      "Peak frequency is 2.0000020000039997 Hz\n",
      "SDR in dB is 36.772657252903215\n",
      "=========================================================================================\n",
      "Running test with freq = 1.8329807108324359 and amplitude = 5e-10 for time 0.6455594781168519s\n",
      "Peak frequency is 2.8329923967475383 Hz\n",
      "SDR in dB is 36.27949849280918\n",
      "=========================================================================================\n",
      "Running test with freq = 3.3598182862837818 and amplitude = 5e-10 for time 0.39763514416313184s\n",
      "Peak frequency is 4.359853779163531 Hz\n",
      "SDR in dB is 36.13342599553142\n",
      "=========================================================================================\n",
      "Running test with freq = 6.158482110660264 and amplitude = 5e-10 for time 0.2623776739188722s\n",
      "Peak frequency is 7.158621454173698 Hz\n",
      "SDR in dB is 36.75225107545706\n",
      "=========================================================================================\n",
      "Running test with freq = 11.28837891684689 and amplitude = 5e-10 for time 0.1885866790410083s\n",
      "Peak frequency is 12.288720310665584 Hz\n",
      "SDR in dB is 35.683363088541086\n",
      "=========================================================================================\n",
      "Running test with freq = 20.69138081114789 and amplitude = 5e-10 for time 0.14832930238571757s\n",
      "Peak frequency is 21.692794768861482 Hz\n",
      "SDR in dB is 34.70213073103582\n",
      "=========================================================================================\n",
      "Running test with freq = 37.926901907322495 and amplitude = 5e-10 for time 0.1263665089873036s\n",
      "Peak frequency is 38.93051130329237 Hz\n",
      "SDR in dB is 30.08338276048996\n",
      "=========================================================================================\n",
      "Running test with freq = 69.51927961775606 and amplitude = 5e-10 for time 0.11438449888287663s\n",
      "Peak frequency is 70.53135864274788 Hz\n",
      "SDR in dB is 27.485327653942868\n",
      "=========================================================================================\n",
      "Running test with freq = 127.42749857031335 and amplitude = 5e-10 for time 0.10784759970351462s\n",
      "Peak frequency is 128.48597654258032 Hz\n",
      "SDR in dB is 23.677936592615772\n",
      "=========================================================================================\n",
      "Running test with freq = 233.57214690901213 and amplitude = 5e-10 for time 0.1042813323987194s\n",
      "Peak frequency is 234.75409069658718 Hz\n",
      "SDR in dB is 14.822052740559865\n",
      "=========================================================================================\n",
      "Running test with freq = 428.1332398719391 and amplitude = 5e-10 for time 0.10233572146909013s\n",
      "Peak frequency is 429.8164665523156 Hz\n",
      "SDR in dB is 13.418707390927004\n",
      "=========================================================================================\n",
      "Running test with freq = 784.7599703514607 and amplitude = 5e-10 for time 0.10127427498570314s\n",
      "Peak frequency is 787.1635220125786 Hz\n",
      "SDR in dB is 2.620099400041702\n",
      "=========================================================================================\n",
      "Running test with freq = 1438.449888287663 and amplitude = 5e-10 for time 0.10069519279617757s\n",
      "Peak frequency is 1446.086705202312 Hz\n",
      "SDR in dB is -0.8382486671725085\n",
      "=========================================================================================\n",
      "Running test with freq = 2636.650898730358 and amplitude = 5e-10 for time 0.10037926901907324s\n",
      "Peak frequency is 2660.574468085106 Hz\n",
      "SDR in dB is 1.9053877474519334\n",
      "=========================================================================================\n",
      "Running test with freq = 4832.930238571752 and amplitude = 5e-10 for time 0.10020691380811149s\n",
      "Peak frequency is 4902.9607843137255 Hz\n",
      "SDR in dB is 5.266389465813171\n",
      "=========================================================================================\n",
      "Running test with freq = 8858.667904100823 and amplitude = 5e-10 for time 0.10011288378916848s\n",
      "Peak frequency is 9091.90909090909 Hz\n",
      "SDR in dB is 4.694428157842295\n",
      "=========================================================================================\n",
      "Running test with freq = 16237.76739188721 and amplitude = 5e-10 for time 0.10006158482110661s\n",
      "Peak frequency is 17242.379310344826 Hz\n",
      "SDR in dB is 9.20012575787447\n",
      "=========================================================================================\n",
      "Running test with freq = 29763.51441631319 and amplitude = 5e-10 for time 0.10003359818286284s\n",
      "Peak frequency is 33334.333333333336 Hz\n",
      "SDR in dB is 2.010671186527547\n",
      "=========================================================================================\n",
      "Running test with freq = 54555.947811685146 and amplitude = 5e-10 for time 0.10001832980710833s\n",
      "Peak frequency is 62501.0 Hz\n",
      "SDR in dB is 2.1595582823414565\n",
      "=========================================================================================\n",
      "Running test with freq = 100000.0 and amplitude = 5e-10 for time 0.10001s\n",
      "Peak frequency is 125001.0 Hz\n",
      "SDR in dB is 2.7747790203783342\n",
      "=========================================================================================\n"
     ]
    }
   ],
   "source": [
    "freqs = np.logspace(start=0, stop=5, num=20)\n",
    "sdrs_f = np.zeros_like(freqs)\n",
    "frates = np.zeros_like(freqs)\n",
    "amp = 0.5e-9\n",
    "for idx in range(len(freqs)):\n",
    "    ip, nfb, frates[idx] = run_test(freq=freqs[idx], amp=amp, plt=False)\n",
    "    sdrs_f[idx] = compute_sdr(nfb[int(transient_time/Ts):], Ts, verbose=True)"
   ]
  },
  {
   "cell_type": "code",
   "execution_count": 3,
   "metadata": {},
   "outputs": [
    {
     "data": {
      "text/plain": [
       "<matplotlib.legend.Legend at 0x21524e5f240>"
      ]
     },
     "execution_count": 3,
     "metadata": {},
     "output_type": "execute_result"
    },
    {
     "data": {
      "image/png": "[encoded data removed]",
      "text/plain": [
       "<Figure size 432x288 with 2 Axes>"
      ]
     },
     "metadata": {
      "needs_background": "light"
     },
     "output_type": "display_data"
    }
   ],
   "source": [
    "fig, ax1 = plt.subplots()\n",
    "\n",
    "ax1.semilogx(freqs, sdrs_f, 'g' ,label='SDR')\n",
    "ax1.set_xlabel('Frequency')\n",
    "ax1.set_ylabel('SDR')\n",
    "\n",
    "ax2 = ax1.twinx()  # instantiate a second axes that shares the same x-axis\n",
    "ax2.semilogx(freqs, frates/1e3, 'r', label='Firing rate')\n",
    "ax2.set_ylabel('Firing rate (in KHz)')\n",
    "\n",
    "title = f'Input Amplitude = {amp*1e9}nA'\n",
    "patch1 = mpatches.Patch(color='g', label='SDR')\n",
    "patch2 = mpatches.Patch(color='r', label='Firing rate')\n",
    "fig.tight_layout() # Or equivalently,  \"plt.tight_layout()\"\n",
    "fig.legend(handles=[patch1, patch2], title=title,loc='upper right',bbox_to_anchor=(0.85, 0.9), fancybox=True, shadow=True)\n",
    "# plt.savefig('img/Nchar_freq_sweep.png',dpi=300)"
   ]
  },
  {
   "cell_type": "code",
   "execution_count": 4,
   "metadata": {
    "scrolled": true
   },
   "outputs": [
    {
     "name": "stdout",
     "output_type": "stream",
     "text": [
      "Running test with freq = 10 and amplitude = 1e-12 for time 0.2s\n",
      "Peak frequency is 11.00020000400008 Hz\n",
      "SDR in dB is 0.6915590601269063\n",
      "=========================================================================================\n",
      "Running test with freq = 10 and amplitude = 2.06913808111479e-12 for time 0.2s\n",
      "Peak frequency is 11.00020000400008 Hz\n",
      "SDR in dB is 7.159603332264151\n",
      "=========================================================================================\n",
      "Running test with freq = 10 and amplitude = 4.281332398719396e-12 for time 0.2s\n",
      "Peak frequency is 11.00020000400008 Hz\n",
      "SDR in dB is 13.507640590769341\n",
      "=========================================================================================\n",
      "Running test with freq = 10 and amplitude = 8.858667904100833e-12 for time 0.2s\n",
      "Peak frequency is 11.00020000400008 Hz\n",
      "SDR in dB is 16.01972603936726\n",
      "=========================================================================================\n",
      "Running test with freq = 10 and amplitude = 1.8329807108324375e-11 for time 0.2s\n",
      "Peak frequency is 11.00020000400008 Hz\n",
      "SDR in dB is 20.152501592983253\n",
      "=========================================================================================\n",
      "Running test with freq = 10 and amplitude = 3.7926901907322536e-11 for time 0.2s\n",
      "Peak frequency is 11.00020000400008 Hz\n",
      "SDR in dB is 23.672186693942827\n",
      "=========================================================================================\n",
      "Running test with freq = 10 and amplitude = 7.847599703514623e-11 for time 0.2s\n",
      "Peak frequency is 11.00020000400008 Hz\n",
      "SDR in dB is 24.652298187915605\n",
      "=========================================================================================\n",
      "Running test with freq = 10 and amplitude = 1.6237767391887175e-10 for time 0.2s\n",
      "Peak frequency is 11.00020000400008 Hz\n",
      "SDR in dB is 28.945612577936814\n",
      "=========================================================================================\n",
      "Running test with freq = 10 and amplitude = 3.3598182862837877e-10 for time 0.2s\n",
      "Peak frequency is 11.00020000400008 Hz\n",
      "SDR in dB is 33.67491163091566\n",
      "=========================================================================================\n",
      "Running test with freq = 10 and amplitude = 6.951927961775591e-10 for time 0.2s\n",
      "Peak frequency is 11.00020000400008 Hz\n",
      "SDR in dB is 37.66968011928238\n",
      "=========================================================================================\n",
      "Running test with freq = 10 and amplitude = 1.4384498882876659e-09 for time 0.2s\n",
      "Peak frequency is 11.00020000400008 Hz\n",
      "SDR in dB is 42.11004324234522\n",
      "=========================================================================================\n",
      "Running test with freq = 10 and amplitude = 2.9763514416313133e-09 for time 0.2s\n",
      "Peak frequency is 11.00020000400008 Hz\n",
      "SDR in dB is 44.42708924794617\n",
      "=========================================================================================\n",
      "Running test with freq = 10 and amplitude = 6.158482110660254e-09 for time 0.2s\n",
      "Peak frequency is 11.00020000400008 Hz\n",
      "SDR in dB is 47.88679689948063\n",
      "=========================================================================================\n",
      "Running test with freq = 10 and amplitude = 1.274274985703132e-08 for time 0.2s\n",
      "Peak frequency is 11.00020000400008 Hz\n",
      "SDR in dB is 51.78114174810246\n",
      "=========================================================================================\n",
      "Running test with freq = 10 and amplitude = 2.6366508987303555e-08 for time 0.2s\n",
      "Peak frequency is 11.00020000400008 Hz\n",
      "SDR in dB is 47.10667484550478\n",
      "=========================================================================================\n",
      "Running test with freq = 10 and amplitude = 5.4555947811685146e-08 for time 0.2s\n",
      "Peak frequency is 11.00020000400008 Hz\n",
      "SDR in dB is 13.349045816268482\n",
      "=========================================================================================\n",
      "Running test with freq = 10 and amplitude = 1.1288378916846883e-07 for time 0.2s\n",
      "Peak frequency is 11.00020000400008 Hz\n",
      "SDR in dB is 4.797493086959515\n",
      "=========================================================================================\n",
      "Running test with freq = 10 and amplitude = 2.3357214690901212e-07 for time 0.2s\n",
      "Peak frequency is 11.00020000400008 Hz\n",
      "SDR in dB is 4.139724218120872\n",
      "=========================================================================================\n",
      "Running test with freq = 10 and amplitude = 4.832930238571752e-07 for time 0.2s\n",
      "Peak frequency is 11.00020000400008 Hz\n",
      "SDR in dB is 1.904846828662094\n",
      "=========================================================================================\n",
      "Running test with freq = 10 and amplitude = 1e-06 for time 0.2s\n",
      "Peak frequency is 11.00020000400008 Hz\n",
      "SDR in dB is 1.904846828662094\n",
      "=========================================================================================\n"
     ]
    }
   ],
   "source": [
    "amps = np.logspace(start=-12, stop=-6, num=20)\n",
    "sdrs_amp = np.zeros_like(freqs)\n",
    "freq=10\n",
    "for idx in range(len(amps)):\n",
    "    ip, nfb, frates[idx] = run_test(freq=freq, amp=amps[idx], plt=False)\n",
    "    sdrs_amp[idx] = compute_sdr(nfb[int(transient_time/Ts):], Ts, verbose=True)"
   ]
  },
  {
   "cell_type": "code",
   "execution_count": 5,
   "metadata": {},
   "outputs": [
    {
     "data": {
      "text/plain": [
       "<matplotlib.legend.Legend at 0x21524c863c8>"
      ]
     },
     "execution_count": 5,
     "metadata": {},
     "output_type": "execute_result"
    },
    {
     "data": {
      "image/png": "[encoded data removed]",
      "text/plain": [
       "<Figure size 432x288 with 2 Axes>"
      ]
     },
     "metadata": {
      "needs_background": "light"
     },
     "output_type": "display_data"
    }
   ],
   "source": [
    "fig, ax1 = plt.subplots()\n",
    "\n",
    "ax1.semilogx(amps, sdrs_amp,'g')\n",
    "ax1.set_xlabel('Amplitude (in A)')\n",
    "ax1.set_ylabel('SDR')\n",
    "\n",
    "ax2 = ax1.twinx()  # instantiate a second axes that shares the same x-axis\n",
    "ax2.semilogx(amps, frates/1e3, 'r')\n",
    "ax2.set_ylabel('Firing rate (in KHz)')    \n",
    "\n",
    "plt.xlabel('Amplitude')\n",
    "\n",
    "title = f'Input Frequency = {freq}Hz'\n",
    "patch1 = mpatches.Patch(color='g', label='SDR')\n",
    "patch2 = mpatches.Patch(color='r', label='Firing rate')\n",
    "fig.tight_layout() # Or equivalently,  \"plt.tight_layout()\"\n",
    "fig.legend(handles=[patch1, patch2], title=title,loc='upper left',bbox_to_anchor=(0.15, 0.9), fancybox=True, shadow=True)\n",
    "\n",
    "# plt.savefig('img/Nchar_amp_sweep.png',dpi=300)"
   ]
  }
 ],
 "metadata": {
  "kernelspec": {
   "display_name": "Python 3",
   "language": "python",
   "name": "python3"
  },
  "language_info": {
   "codemirror_mode": {
    "name": "ipython",
    "version": 3
   },
   "file_extension": ".py",
   "mimetype": "text/x-python",
   "name": "python",
   "nbconvert_exporter": "python",
   "pygments_lexer": "ipython3",
   "version": "3.6.7"
  }
 },
 "nbformat": 4,
 "nbformat_minor": 2
}
